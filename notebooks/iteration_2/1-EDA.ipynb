{
 "cells": [
  {
   "cell_type": "markdown",
   "metadata": {},
   "source": [
    "# EDA\n",
    "\n",
    "EDA of the features and target\n",
    "\n",
    "# Goal\n",
    "\n",
    "Find patterns on the features for target\n",
    "\n",
    "# Plan\n",
    "\n",
    "Checklist what will be done on the notebook :\n",
    "\n",
    "    [ ] Get Data\n",
    "    [ ] Data Preparations\n",
    "    [ ] Features Summary\n",
    "    [ ] Features correlations to Target\n",
    "\n"
   ]
  },
  {
   "cell_type": "code",
   "execution_count": 1,
   "metadata": {},
   "outputs": [],
   "source": [
    "import yaml\n",
    "import pandas as pd\n",
    "import matplotlib.pyplot as plt\n",
    "import os\n",
    "import joblib\n",
    "import numpy as np\n",
    "from sklearn.preprocessing import OneHotEncoder\n",
    "import seaborn as sns\n",
    "from statsmodels.graphics.mosaicplot import mosaic"
   ]
  },
  {
   "cell_type": "code",
   "execution_count": 2,
   "metadata": {},
   "outputs": [],
   "source": [
    "with open(\"../../config.yaml\", \"r\") as f:\n",
    "    config = yaml.load(f, Loader=yaml.FullLoader)\n",
    "\n",
    "PATH_RAW = config['path']['raw']\n",
    "PATH_INTERIM = config['path']['interim']\n",
    "PATH_PROCESSED = config['path']['processed']\n",
    "\n",
    "if os.name == 'posix' :\n",
    "    PATH_MODEL = config['path']['artifact']+os.getcwd().split('/')[-1]+'/'\n",
    "else:\n",
    "    PATH_MODEL = config['path']['artifact']+os.getcwd().split('\\\\')[-1]+'/'\n",
    "\n",
    "PATH_UDF = config['path']['udf']"
   ]
  },
  {
   "cell_type": "code",
   "execution_count": 3,
   "metadata": {},
   "outputs": [],
   "source": [
    "# %matplotlib inline"
   ]
  },
  {
   "cell_type": "code",
   "execution_count": null,
   "metadata": {},
   "outputs": [],
   "source": []
  },
  {
   "cell_type": "markdown",
   "metadata": {},
   "source": [
    "## Get Data"
   ]
  },
  {
   "cell_type": "code",
   "execution_count": 4,
   "metadata": {},
   "outputs": [],
   "source": [
    "raw_trn = pd.read_csv(PATH_INTERIM+'data_trn_iter2.csv')"
   ]
  },
  {
   "cell_type": "code",
   "execution_count": 5,
   "metadata": {},
   "outputs": [],
   "source": [
    "train_ids = raw_trn.sample(int(len(raw_trn)*0.85), random_state = 124)['ids']\n",
    "raw_trn['is_train'] = raw_trn['ids'].isin(train_ids).astype(int)"
   ]
  },
  {
   "cell_type": "code",
   "execution_count": 6,
   "metadata": {},
   "outputs": [
    {
     "data": {
      "text/plain": [
       "no     0.884525\n",
       "yes    0.115475\n",
       "Name: y, dtype: float64"
      ]
     },
     "execution_count": 6,
     "metadata": {},
     "output_type": "execute_result"
    }
   ],
   "source": [
    "## check target\n",
    "raw_trn[raw_trn.is_train == 1]['y'].value_counts(normalize = True)"
   ]
  },
  {
   "cell_type": "code",
   "execution_count": null,
   "metadata": {},
   "outputs": [],
   "source": []
  },
  {
   "cell_type": "markdown",
   "metadata": {},
   "source": [
    "## Data Preparation\n",
    "source : [link](https://www.kaggle.com/ldfreeman3/a-data-science-framework-to-achieve-99-accuracy#ch5)\n",
    "\n",
    "Creating\n",
    "Cleaning\n",
    "Combining\n",
    "Completing\n",
    "Creating\n",
    "Converting"
   ]
  },
  {
   "cell_type": "code",
   "execution_count": 7,
   "metadata": {},
   "outputs": [
    {
     "data": {
      "text/html": [
       "<div>\n",
       "<style scoped>\n",
       "    .dataframe tbody tr th:only-of-type {\n",
       "        vertical-align: middle;\n",
       "    }\n",
       "\n",
       "    .dataframe tbody tr th {\n",
       "        vertical-align: top;\n",
       "    }\n",
       "\n",
       "    .dataframe thead th {\n",
       "        text-align: right;\n",
       "    }\n",
       "</style>\n",
       "<table border=\"1\" class=\"dataframe\">\n",
       "  <thead>\n",
       "    <tr style=\"text-align: right;\">\n",
       "      <th></th>\n",
       "      <th>ids</th>\n",
       "      <th>age</th>\n",
       "      <th>balance</th>\n",
       "      <th>day</th>\n",
       "      <th>duration</th>\n",
       "      <th>pdays</th>\n",
       "      <th>job</th>\n",
       "      <th>contact</th>\n",
       "      <th>education</th>\n",
       "      <th>marital</th>\n",
       "      <th>default</th>\n",
       "      <th>y</th>\n",
       "      <th>is_train</th>\n",
       "    </tr>\n",
       "  </thead>\n",
       "  <tbody>\n",
       "    <tr>\n",
       "      <th>0</th>\n",
       "      <td>0</td>\n",
       "      <td>58</td>\n",
       "      <td>2143</td>\n",
       "      <td>5</td>\n",
       "      <td>261</td>\n",
       "      <td>-1</td>\n",
       "      <td>management</td>\n",
       "      <td>unknown</td>\n",
       "      <td>tertiary</td>\n",
       "      <td>married</td>\n",
       "      <td>no</td>\n",
       "      <td>no</td>\n",
       "      <td>1</td>\n",
       "    </tr>\n",
       "    <tr>\n",
       "      <th>1</th>\n",
       "      <td>2</td>\n",
       "      <td>33</td>\n",
       "      <td>2</td>\n",
       "      <td>5</td>\n",
       "      <td>76</td>\n",
       "      <td>-1</td>\n",
       "      <td>entrepreneur</td>\n",
       "      <td>unknown</td>\n",
       "      <td>secondary</td>\n",
       "      <td>married</td>\n",
       "      <td>no</td>\n",
       "      <td>no</td>\n",
       "      <td>1</td>\n",
       "    </tr>\n",
       "    <tr>\n",
       "      <th>2</th>\n",
       "      <td>3</td>\n",
       "      <td>47</td>\n",
       "      <td>1506</td>\n",
       "      <td>5</td>\n",
       "      <td>92</td>\n",
       "      <td>-1</td>\n",
       "      <td>blue-collar</td>\n",
       "      <td>unknown</td>\n",
       "      <td>unknown</td>\n",
       "      <td>married</td>\n",
       "      <td>no</td>\n",
       "      <td>no</td>\n",
       "      <td>1</td>\n",
       "    </tr>\n",
       "    <tr>\n",
       "      <th>3</th>\n",
       "      <td>5</td>\n",
       "      <td>35</td>\n",
       "      <td>231</td>\n",
       "      <td>5</td>\n",
       "      <td>139</td>\n",
       "      <td>-1</td>\n",
       "      <td>management</td>\n",
       "      <td>unknown</td>\n",
       "      <td>tertiary</td>\n",
       "      <td>married</td>\n",
       "      <td>no</td>\n",
       "      <td>no</td>\n",
       "      <td>1</td>\n",
       "    </tr>\n",
       "    <tr>\n",
       "      <th>4</th>\n",
       "      <td>6</td>\n",
       "      <td>28</td>\n",
       "      <td>447</td>\n",
       "      <td>5</td>\n",
       "      <td>217</td>\n",
       "      <td>-1</td>\n",
       "      <td>management</td>\n",
       "      <td>unknown</td>\n",
       "      <td>tertiary</td>\n",
       "      <td>single</td>\n",
       "      <td>no</td>\n",
       "      <td>no</td>\n",
       "      <td>1</td>\n",
       "    </tr>\n",
       "  </tbody>\n",
       "</table>\n",
       "</div>"
      ],
      "text/plain": [
       "   ids  age  balance  day  duration  pdays           job  contact  education  \\\n",
       "0    0   58     2143    5       261     -1    management  unknown   tertiary   \n",
       "1    2   33        2    5        76     -1  entrepreneur  unknown  secondary   \n",
       "2    3   47     1506    5        92     -1   blue-collar  unknown    unknown   \n",
       "3    5   35      231    5       139     -1    management  unknown   tertiary   \n",
       "4    6   28      447    5       217     -1    management  unknown   tertiary   \n",
       "\n",
       "   marital default   y  is_train  \n",
       "0  married      no  no         1  \n",
       "1  married      no  no         1  \n",
       "2  married      no  no         1  \n",
       "3  married      no  no         1  \n",
       "4   single      no  no         1  "
      ]
     },
     "execution_count": 7,
     "metadata": {},
     "output_type": "execute_result"
    }
   ],
   "source": [
    "raw_trn.head()"
   ]
  },
  {
   "cell_type": "code",
   "execution_count": 8,
   "metadata": {},
   "outputs": [],
   "source": [
    "raw_trn['y2'] = (raw_trn['y'] == 'yes').astype(int)"
   ]
  },
  {
   "cell_type": "code",
   "execution_count": 9,
   "metadata": {},
   "outputs": [],
   "source": [
    "## separate the columns\n",
    "col_num = ['age','balance','day',\n",
    "                      'duration','pdays']\n",
    "col_cat = ['job','contact','marital','default','education']"
   ]
  },
  {
   "cell_type": "code",
   "execution_count": null,
   "metadata": {},
   "outputs": [],
   "source": []
  },
  {
   "cell_type": "markdown",
   "metadata": {},
   "source": [
    "#### Missing Value"
   ]
  },
  {
   "cell_type": "code",
   "execution_count": 10,
   "metadata": {},
   "outputs": [
    {
     "data": {
      "text/html": [
       "<div>\n",
       "<style scoped>\n",
       "    .dataframe tbody tr th:only-of-type {\n",
       "        vertical-align: middle;\n",
       "    }\n",
       "\n",
       "    .dataframe tbody tr th {\n",
       "        vertical-align: top;\n",
       "    }\n",
       "\n",
       "    .dataframe thead th {\n",
       "        text-align: right;\n",
       "    }\n",
       "</style>\n",
       "<table border=\"1\" class=\"dataframe\">\n",
       "  <thead>\n",
       "    <tr style=\"text-align: right;\">\n",
       "      <th></th>\n",
       "      <th>ids</th>\n",
       "      <th>age</th>\n",
       "      <th>balance</th>\n",
       "      <th>day</th>\n",
       "      <th>duration</th>\n",
       "      <th>pdays</th>\n",
       "      <th>job</th>\n",
       "      <th>contact</th>\n",
       "      <th>education</th>\n",
       "      <th>marital</th>\n",
       "      <th>default</th>\n",
       "      <th>y</th>\n",
       "      <th>is_train</th>\n",
       "      <th>y2</th>\n",
       "    </tr>\n",
       "  </thead>\n",
       "  <tbody>\n",
       "    <tr>\n",
       "      <th>20194</th>\n",
       "      <td>23761</td>\n",
       "      <td>35</td>\n",
       "      <td>576</td>\n",
       "      <td>28</td>\n",
       "      <td>8</td>\n",
       "      <td>-1</td>\n",
       "      <td>technician</td>\n",
       "      <td>cellular</td>\n",
       "      <td>tertiary</td>\n",
       "      <td>single</td>\n",
       "      <td>no</td>\n",
       "      <td>no</td>\n",
       "      <td>1</td>\n",
       "      <td>0</td>\n",
       "    </tr>\n",
       "    <tr>\n",
       "      <th>20664</th>\n",
       "      <td>24289</td>\n",
       "      <td>57</td>\n",
       "      <td>1469</td>\n",
       "      <td>17</td>\n",
       "      <td>364</td>\n",
       "      <td>-1</td>\n",
       "      <td>technician</td>\n",
       "      <td>cellular</td>\n",
       "      <td>secondary</td>\n",
       "      <td>married</td>\n",
       "      <td>no</td>\n",
       "      <td>no</td>\n",
       "      <td>0</td>\n",
       "      <td>0</td>\n",
       "    </tr>\n",
       "    <tr>\n",
       "      <th>34572</th>\n",
       "      <td>40650</td>\n",
       "      <td>37</td>\n",
       "      <td>1291</td>\n",
       "      <td>5</td>\n",
       "      <td>150</td>\n",
       "      <td>97</td>\n",
       "      <td>unemployed</td>\n",
       "      <td>cellular</td>\n",
       "      <td>tertiary</td>\n",
       "      <td>single</td>\n",
       "      <td>no</td>\n",
       "      <td>yes</td>\n",
       "      <td>1</td>\n",
       "      <td>1</td>\n",
       "    </tr>\n",
       "    <tr>\n",
       "      <th>18108</th>\n",
       "      <td>21318</td>\n",
       "      <td>30</td>\n",
       "      <td>796</td>\n",
       "      <td>18</td>\n",
       "      <td>315</td>\n",
       "      <td>-1</td>\n",
       "      <td>technician</td>\n",
       "      <td>cellular</td>\n",
       "      <td>secondary</td>\n",
       "      <td>single</td>\n",
       "      <td>no</td>\n",
       "      <td>no</td>\n",
       "      <td>1</td>\n",
       "      <td>0</td>\n",
       "    </tr>\n",
       "    <tr>\n",
       "      <th>21377</th>\n",
       "      <td>25133</td>\n",
       "      <td>31</td>\n",
       "      <td>2076</td>\n",
       "      <td>18</td>\n",
       "      <td>178</td>\n",
       "      <td>127</td>\n",
       "      <td>admin.</td>\n",
       "      <td>cellular</td>\n",
       "      <td>secondary</td>\n",
       "      <td>single</td>\n",
       "      <td>no</td>\n",
       "      <td>no</td>\n",
       "      <td>1</td>\n",
       "      <td>0</td>\n",
       "    </tr>\n",
       "    <tr>\n",
       "      <th>35043</th>\n",
       "      <td>41211</td>\n",
       "      <td>60</td>\n",
       "      <td>106</td>\n",
       "      <td>21</td>\n",
       "      <td>216</td>\n",
       "      <td>91</td>\n",
       "      <td>admin.</td>\n",
       "      <td>cellular</td>\n",
       "      <td>secondary</td>\n",
       "      <td>married</td>\n",
       "      <td>no</td>\n",
       "      <td>yes</td>\n",
       "      <td>1</td>\n",
       "      <td>1</td>\n",
       "    </tr>\n",
       "    <tr>\n",
       "      <th>3909</th>\n",
       "      <td>4628</td>\n",
       "      <td>34</td>\n",
       "      <td>967</td>\n",
       "      <td>20</td>\n",
       "      <td>415</td>\n",
       "      <td>-1</td>\n",
       "      <td>management</td>\n",
       "      <td>unknown</td>\n",
       "      <td>tertiary</td>\n",
       "      <td>married</td>\n",
       "      <td>no</td>\n",
       "      <td>no</td>\n",
       "      <td>1</td>\n",
       "      <td>0</td>\n",
       "    </tr>\n",
       "    <tr>\n",
       "      <th>22120</th>\n",
       "      <td>26005</td>\n",
       "      <td>30</td>\n",
       "      <td>631</td>\n",
       "      <td>19</td>\n",
       "      <td>174</td>\n",
       "      <td>-1</td>\n",
       "      <td>blue-collar</td>\n",
       "      <td>cellular</td>\n",
       "      <td>secondary</td>\n",
       "      <td>married</td>\n",
       "      <td>no</td>\n",
       "      <td>no</td>\n",
       "      <td>0</td>\n",
       "      <td>0</td>\n",
       "    </tr>\n",
       "    <tr>\n",
       "      <th>10312</th>\n",
       "      <td>12123</td>\n",
       "      <td>45</td>\n",
       "      <td>1515</td>\n",
       "      <td>20</td>\n",
       "      <td>14</td>\n",
       "      <td>-1</td>\n",
       "      <td>services</td>\n",
       "      <td>unknown</td>\n",
       "      <td>secondary</td>\n",
       "      <td>single</td>\n",
       "      <td>no</td>\n",
       "      <td>no</td>\n",
       "      <td>1</td>\n",
       "      <td>0</td>\n",
       "    </tr>\n",
       "    <tr>\n",
       "      <th>37337</th>\n",
       "      <td>43918</td>\n",
       "      <td>30</td>\n",
       "      <td>166</td>\n",
       "      <td>14</td>\n",
       "      <td>30</td>\n",
       "      <td>-1</td>\n",
       "      <td>admin.</td>\n",
       "      <td>unknown</td>\n",
       "      <td>secondary</td>\n",
       "      <td>married</td>\n",
       "      <td>no</td>\n",
       "      <td>no</td>\n",
       "      <td>1</td>\n",
       "      <td>0</td>\n",
       "    </tr>\n",
       "  </tbody>\n",
       "</table>\n",
       "</div>"
      ],
      "text/plain": [
       "         ids  age  balance  day  duration  pdays          job   contact  \\\n",
       "20194  23761   35      576   28         8     -1   technician  cellular   \n",
       "20664  24289   57     1469   17       364     -1   technician  cellular   \n",
       "34572  40650   37     1291    5       150     97   unemployed  cellular   \n",
       "18108  21318   30      796   18       315     -1   technician  cellular   \n",
       "21377  25133   31     2076   18       178    127       admin.  cellular   \n",
       "35043  41211   60      106   21       216     91       admin.  cellular   \n",
       "3909    4628   34      967   20       415     -1   management   unknown   \n",
       "22120  26005   30      631   19       174     -1  blue-collar  cellular   \n",
       "10312  12123   45     1515   20        14     -1     services   unknown   \n",
       "37337  43918   30      166   14        30     -1       admin.   unknown   \n",
       "\n",
       "       education  marital default    y  is_train  y2  \n",
       "20194   tertiary   single      no   no         1   0  \n",
       "20664  secondary  married      no   no         0   0  \n",
       "34572   tertiary   single      no  yes         1   1  \n",
       "18108  secondary   single      no   no         1   0  \n",
       "21377  secondary   single      no   no         1   0  \n",
       "35043  secondary  married      no  yes         1   1  \n",
       "3909    tertiary  married      no   no         1   0  \n",
       "22120  secondary  married      no   no         0   0  \n",
       "10312  secondary   single      no   no         1   0  \n",
       "37337  secondary  married      no   no         1   0  "
      ]
     },
     "execution_count": 10,
     "metadata": {},
     "output_type": "execute_result"
    }
   ],
   "source": [
    "raw_trn.sample(10)"
   ]
  },
  {
   "cell_type": "code",
   "execution_count": null,
   "metadata": {},
   "outputs": [],
   "source": []
  },
  {
   "cell_type": "code",
   "execution_count": 11,
   "metadata": {},
   "outputs": [
    {
     "data": {
      "text/plain": [
       "ids          0\n",
       "age          0\n",
       "balance      0\n",
       "day          0\n",
       "duration     0\n",
       "pdays        0\n",
       "job          0\n",
       "contact      0\n",
       "education    0\n",
       "marital      0\n",
       "default      0\n",
       "y            0\n",
       "is_train     0\n",
       "y2           0\n",
       "dtype: int64"
      ]
     },
     "execution_count": 11,
     "metadata": {},
     "output_type": "execute_result"
    }
   ],
   "source": [
    "raw_trn.isnull().sum()"
   ]
  },
  {
   "cell_type": "code",
   "execution_count": null,
   "metadata": {},
   "outputs": [],
   "source": []
  },
  {
   "cell_type": "markdown",
   "metadata": {},
   "source": [
    "#### Outliers"
   ]
  },
  {
   "cell_type": "code",
   "execution_count": 12,
   "metadata": {},
   "outputs": [],
   "source": [
    "## Numerical\n",
    "df_num = raw_trn[col_num+['is_train']]"
   ]
  },
  {
   "cell_type": "code",
   "execution_count": 13,
   "metadata": {},
   "outputs": [
    {
     "data": {
      "text/html": [
       "<div>\n",
       "<style scoped>\n",
       "    .dataframe tbody tr th:only-of-type {\n",
       "        vertical-align: middle;\n",
       "    }\n",
       "\n",
       "    .dataframe tbody tr th {\n",
       "        vertical-align: top;\n",
       "    }\n",
       "\n",
       "    .dataframe thead th {\n",
       "        text-align: right;\n",
       "    }\n",
       "</style>\n",
       "<table border=\"1\" class=\"dataframe\">\n",
       "  <thead>\n",
       "    <tr style=\"text-align: right;\">\n",
       "      <th></th>\n",
       "      <th>age</th>\n",
       "      <th>balance</th>\n",
       "      <th>day</th>\n",
       "      <th>duration</th>\n",
       "      <th>pdays</th>\n",
       "      <th>is_train</th>\n",
       "    </tr>\n",
       "  </thead>\n",
       "  <tbody>\n",
       "    <tr>\n",
       "      <th>count</th>\n",
       "      <td>32665.000000</td>\n",
       "      <td>32665.000000</td>\n",
       "      <td>32665.000000</td>\n",
       "      <td>32665.000000</td>\n",
       "      <td>32665.000000</td>\n",
       "      <td>32665.0</td>\n",
       "    </tr>\n",
       "    <tr>\n",
       "      <th>mean</th>\n",
       "      <td>40.923435</td>\n",
       "      <td>1348.657676</td>\n",
       "      <td>15.798990</td>\n",
       "      <td>256.926527</td>\n",
       "      <td>40.400827</td>\n",
       "      <td>1.0</td>\n",
       "    </tr>\n",
       "    <tr>\n",
       "      <th>std</th>\n",
       "      <td>10.587586</td>\n",
       "      <td>3069.857375</td>\n",
       "      <td>8.308533</td>\n",
       "      <td>256.887782</td>\n",
       "      <td>100.816634</td>\n",
       "      <td>0.0</td>\n",
       "    </tr>\n",
       "    <tr>\n",
       "      <th>min</th>\n",
       "      <td>18.000000</td>\n",
       "      <td>-8019.000000</td>\n",
       "      <td>1.000000</td>\n",
       "      <td>0.000000</td>\n",
       "      <td>-1.000000</td>\n",
       "      <td>1.0</td>\n",
       "    </tr>\n",
       "    <tr>\n",
       "      <th>25%</th>\n",
       "      <td>33.000000</td>\n",
       "      <td>69.000000</td>\n",
       "      <td>8.000000</td>\n",
       "      <td>103.000000</td>\n",
       "      <td>-1.000000</td>\n",
       "      <td>1.0</td>\n",
       "    </tr>\n",
       "    <tr>\n",
       "      <th>50%</th>\n",
       "      <td>39.000000</td>\n",
       "      <td>442.000000</td>\n",
       "      <td>16.000000</td>\n",
       "      <td>179.000000</td>\n",
       "      <td>-1.000000</td>\n",
       "      <td>1.0</td>\n",
       "    </tr>\n",
       "    <tr>\n",
       "      <th>75%</th>\n",
       "      <td>48.000000</td>\n",
       "      <td>1415.000000</td>\n",
       "      <td>21.000000</td>\n",
       "      <td>317.000000</td>\n",
       "      <td>-1.000000</td>\n",
       "      <td>1.0</td>\n",
       "    </tr>\n",
       "    <tr>\n",
       "      <th>max</th>\n",
       "      <td>95.000000</td>\n",
       "      <td>102127.000000</td>\n",
       "      <td>31.000000</td>\n",
       "      <td>4918.000000</td>\n",
       "      <td>871.000000</td>\n",
       "      <td>1.0</td>\n",
       "    </tr>\n",
       "  </tbody>\n",
       "</table>\n",
       "</div>"
      ],
      "text/plain": [
       "                age        balance           day      duration         pdays  \\\n",
       "count  32665.000000   32665.000000  32665.000000  32665.000000  32665.000000   \n",
       "mean      40.923435    1348.657676     15.798990    256.926527     40.400827   \n",
       "std       10.587586    3069.857375      8.308533    256.887782    100.816634   \n",
       "min       18.000000   -8019.000000      1.000000      0.000000     -1.000000   \n",
       "25%       33.000000      69.000000      8.000000    103.000000     -1.000000   \n",
       "50%       39.000000     442.000000     16.000000    179.000000     -1.000000   \n",
       "75%       48.000000    1415.000000     21.000000    317.000000     -1.000000   \n",
       "max       95.000000  102127.000000     31.000000   4918.000000    871.000000   \n",
       "\n",
       "       is_train  \n",
       "count   32665.0  \n",
       "mean        1.0  \n",
       "std         0.0  \n",
       "min         1.0  \n",
       "25%         1.0  \n",
       "50%         1.0  \n",
       "75%         1.0  \n",
       "max         1.0  "
      ]
     },
     "execution_count": 13,
     "metadata": {},
     "output_type": "execute_result"
    }
   ],
   "source": [
    "## only check on training\n",
    "df_num[df_num.is_train == 1].describe()"
   ]
  },
  {
   "cell_type": "code",
   "execution_count": 14,
   "metadata": {},
   "outputs": [],
   "source": [
    "## Cap the data"
   ]
  },
  {
   "cell_type": "code",
   "execution_count": 15,
   "metadata": {},
   "outputs": [
    {
     "data": {
      "text/plain": [
       "{'age': 63.0,\n",
       " 'balance': 9328.160000000003,\n",
       " 'day': 30.0,\n",
       " 'duration': 1044.0,\n",
       " 'pdays': 361.0,\n",
       " 'is_train': 1.0}"
      ]
     },
     "execution_count": 15,
     "metadata": {},
     "output_type": "execute_result"
    }
   ],
   "source": [
    "df_num[df_num.is_train == 1].quantile(0.98).to_dict()"
   ]
  },
  {
   "cell_type": "code",
   "execution_count": 16,
   "metadata": {},
   "outputs": [],
   "source": [
    "rule_cap = df_num[df_num.is_train == 1].quantile(0.98).to_dict()\n",
    "joblib.dump(rule_cap, PATH_MODEL+'outliers_cap_rules.pkl')\n",
    "rule_cap_load = joblib.load(PATH_MODEL+'outliers_cap_rules.pkl')"
   ]
  },
  {
   "cell_type": "code",
   "execution_count": 17,
   "metadata": {},
   "outputs": [],
   "source": [
    "raw_trn['balance2'] = np.where(raw_trn['balance']<0,0, raw_trn['balance'])\n",
    "col_num2 = []\n",
    "\n",
    "for c2 in col_num:\n",
    "    if c2 == 'balance':\n",
    "        ck = c2+'2'\n",
    "    else:\n",
    "        ck = c2\n",
    "    max_cap = rule_cap_load[c2]\n",
    "    raw_trn[ck+'_cap'] = np.where(raw_trn[ck] >= max_cap, max_cap, raw_trn[ck])\n",
    "    \n",
    "    col_num2.append(ck+'_cap')"
   ]
  },
  {
   "cell_type": "code",
   "execution_count": 18,
   "metadata": {},
   "outputs": [],
   "source": [
    "## check pdays\n",
    "# df_num['pdays'].value_counts(normalize = True) --> 80% is -1\n",
    "\n",
    "raw_trn['is_contacted'] = (raw_trn['pdays'] != -1).astype(int)\n"
   ]
  },
  {
   "cell_type": "code",
   "execution_count": null,
   "metadata": {},
   "outputs": [],
   "source": []
  },
  {
   "cell_type": "code",
   "execution_count": 19,
   "metadata": {},
   "outputs": [],
   "source": [
    "## Categoric\n",
    "df_cat = raw_trn[col_cat+['is_train']]"
   ]
  },
  {
   "cell_type": "code",
   "execution_count": 20,
   "metadata": {},
   "outputs": [],
   "source": [
    "# for c in col_cat:\n",
    "#     print('***',c,'***')\n",
    "#     print(df_cat[c].value_counts(normalize = True))\n",
    "#     print('---')"
   ]
  },
  {
   "cell_type": "code",
   "execution_count": 21,
   "metadata": {},
   "outputs": [],
   "source": [
    "col_cat += ['is_contacted']\n",
    "col_cat = list(set(col_cat))"
   ]
  },
  {
   "cell_type": "code",
   "execution_count": null,
   "metadata": {},
   "outputs": [],
   "source": []
  },
  {
   "cell_type": "markdown",
   "metadata": {},
   "source": [
    "#### EDA & Feature engineering"
   ]
  },
  {
   "cell_type": "markdown",
   "metadata": {},
   "source": [
    "##### Numeric\n",
    "\n",
    "-- there is a scatter matrix / pairplot"
   ]
  },
  {
   "cell_type": "code",
   "execution_count": 22,
   "metadata": {},
   "outputs": [
    {
     "data": {
      "image/png": "[encoded data removed]",
      "text/plain": [
       "<Figure size 720x504 with 1 Axes>"
      ]
     },
     "metadata": {
      "needs_background": "light"
     },
     "output_type": "display_data"
    },
    {
     "data": {
      "text/plain": [
       "<Figure size 432x288 with 0 Axes>"
      ]
     },
     "metadata": {},
     "output_type": "display_data"
    },
    {
     "data": {
      "image/png": "[encoded data removed]",
      "text/plain": [
       "<Figure size 720x504 with 1 Axes>"
      ]
     },
     "metadata": {
      "needs_background": "light"
     },
     "output_type": "display_data"
    },
    {
     "data": {
      "text/plain": [
       "<Figure size 432x288 with 0 Axes>"
      ]
     },
     "metadata": {},
     "output_type": "display_data"
    },
    {
     "data": {
      "image/png": "[encoded data removed]",
      "text/plain": [
       "<Figure size 720x504 with 1 Axes>"
      ]
     },
     "metadata": {
      "needs_background": "light"
     },
     "output_type": "display_data"
    },
    {
     "data": {
      "text/plain": [
       "<Figure size 432x288 with 0 Axes>"
      ]
     },
     "metadata": {},
     "output_type": "display_data"
    },
    {
     "data": {
      "image/png": "[encoded data removed]",
      "text/plain": [
       "<Figure size 720x504 with 1 Axes>"
      ]
     },
     "metadata": {
      "needs_background": "light"
     },
     "output_type": "display_data"
    },
    {
     "data": {
      "text/plain": [
       "<Figure size 432x288 with 0 Axes>"
      ]
     },
     "metadata": {},
     "output_type": "display_data"
    },
    {
     "data": {
      "image/png": "[encoded data removed]",
      "text/plain": [
       "<Figure size 720x504 with 1 Axes>"
      ]
     },
     "metadata": {
      "needs_background": "light"
     },
     "output_type": "display_data"
    },
    {
     "data": {
      "text/plain": [
       "<Figure size 432x288 with 0 Axes>"
      ]
     },
     "metadata": {},
     "output_type": "display_data"
    }
   ],
   "source": [
    "target = 'y2'\n",
    "c = 'age'\n",
    "for c in col_num2:\n",
    "    sns.displot(data = raw_trn[raw_trn.is_train == 1], \n",
    "            x = c, \n",
    "            hue = target,\n",
    "            stat=\"density\", common_norm=False)\n",
    "    plt.gcf().set_size_inches(10, 7)\n",
    "    plt.title(c)\n",
    "    plt.show()\n",
    "    plt.clf()"
   ]
  },
  {
   "cell_type": "code",
   "execution_count": 23,
   "metadata": {},
   "outputs": [
    {
     "data": {
      "image/png": "[encoded data removed]",
      "text/plain": [
       "<Figure size 720x504 with 1 Axes>"
      ]
     },
     "metadata": {
      "needs_background": "light"
     },
     "output_type": "display_data"
    },
    {
     "data": {
      "text/plain": [
       "<Figure size 432x288 with 0 Axes>"
      ]
     },
     "metadata": {},
     "output_type": "display_data"
    }
   ],
   "source": [
    "sns.displot(data = raw_trn[(raw_trn.is_train == 1)&(raw_trn.pdays_cap!=-1)], \n",
    "            x = 'pdays_cap', \n",
    "            hue = target,\n",
    "            stat=\"density\", common_norm=False)\n",
    "plt.gcf().set_size_inches(10, 7)\n",
    "plt.title(c)\n",
    "plt.show()\n",
    "plt.clf()"
   ]
  },
  {
   "cell_type": "markdown",
   "metadata": {},
   "source": [
    "Numeric Exploration Takeaway :\n",
    "\n",
    "1. age :less than 30 or more than 60 is more likely to Yes,  otherwise more likely to No\n",
    "2. balance and day : There is no huge evidence of pattern\n",
    "3. duration : higher duration, higher probability to Yes\n",
    "4. pdays : no particular pattern"
   ]
  },
  {
   "cell_type": "code",
   "execution_count": null,
   "metadata": {},
   "outputs": [],
   "source": []
  },
  {
   "cell_type": "code",
   "execution_count": null,
   "metadata": {},
   "outputs": [],
   "source": []
  },
  {
   "cell_type": "markdown",
   "metadata": {},
   "source": [
    "##### Categoric"
   ]
  },
  {
   "cell_type": "code",
   "execution_count": 24,
   "metadata": {},
   "outputs": [
    {
     "data": {
      "image/png": "[encoded data removed]",
      "text/plain": [
       "<Figure size 432x288 with 1 Axes>"
      ]
     },
     "metadata": {
      "needs_background": "light"
     },
     "output_type": "display_data"
    },
    {
     "data": {
      "image/png": "[encoded data removed]",
      "text/plain": [
       "<Figure size 432x288 with 1 Axes>"
      ]
     },
     "metadata": {
      "needs_background": "light"
     },
     "output_type": "display_data"
    },
    {
     "data": {
      "image/png": "[encoded data removed]",
      "text/plain": [
       "<Figure size 432x288 with 1 Axes>"
      ]
     },
     "metadata": {
      "needs_background": "light"
     },
     "output_type": "display_data"
    },
    {
     "data": {
      "image/png": "[encoded data removed]",
      "text/plain": [
       "<Figure size 432x288 with 1 Axes>"
      ]
     },
     "metadata": {
      "needs_background": "light"
     },
     "output_type": "display_data"
    },
    {
     "data": {
      "image/png": "[encoded data removed]",
      "text/plain": [
       "<Figure size 432x288 with 1 Axes>"
      ]
     },
     "metadata": {
      "needs_background": "light"
     },
     "output_type": "display_data"
    },
    {
     "data": {
      "image/png": "[encoded data removed]",
      "text/plain": [
       "<Figure size 432x288 with 1 Axes>"
      ]
     },
     "metadata": {
      "needs_background": "light"
     },
     "output_type": "display_data"
    }
   ],
   "source": [
    "target = 'y2'\n",
    "c = 'marital'\n",
    "for c in col_cat:\n",
    "    # mosaic(raw_trn[raw_trn.is_train == 1], [c, target], title=c)\n",
    "    # plt.show()\n",
    "    raw_trn[raw_trn.is_train == 1].groupby(c)[target].mean().sort_values(ascending=False).plot(kind = 'bar',title = c)\n",
    "    plt.ylabel('probability to Yes')\n",
    "    plt.show()\n"
   ]
  },
  {
   "cell_type": "code",
   "execution_count": null,
   "metadata": {},
   "outputs": [],
   "source": []
  },
  {
   "cell_type": "markdown",
   "metadata": {},
   "source": [
    "Numeric Exploration Takeaway :\n",
    "\n",
    "1. default : slightly differences between entity\n",
    "2. marital : single has slightly higher probability to Yes\n",
    "3. is_contacted : higher prob if the back contact the user\n",
    "4. job : we can grouping service, housemaid, entrepreneur (and self-employed), blue-collar as same group. Also admin, unknown, technician as same group.\n",
    "5. education : slightly differences\n",
    "6. contact :  may same as is_contacted"
   ]
  },
  {
   "cell_type": "code",
   "execution_count": null,
   "metadata": {},
   "outputs": [],
   "source": []
  },
  {
   "cell_type": "code",
   "execution_count": 25,
   "metadata": {},
   "outputs": [],
   "source": [
    "## further exploration on Job\n",
    "jgroup1 = ['services', 'self-employed', 'entrepreneur', 'housemaid']\n",
    "jgroup2 = ['admin.', 'technician', 'unknown']\n",
    "raw_trn['job2'] = raw_trn['job'].apply(lambda x : np.where(x in jgroup1,'jgr1',\n",
    "                                                        np.where(x in jgroup2,'jgr2',x)))\n",
    "## --> unrecognize job in the future will refer as jgr2"
   ]
  },
  {
   "cell_type": "code",
   "execution_count": 26,
   "metadata": {},
   "outputs": [
    {
     "data": {
      "text/plain": [
       "job            job2       \n",
       "blue-collar    blue-collar    0.214633\n",
       "management     management     0.207898\n",
       "technician     jgr2           0.168590\n",
       "admin.         jgr2           0.115139\n",
       "services       jgr1           0.092821\n",
       "retired        retired        0.049043\n",
       "self-employed  jgr1           0.035696\n",
       "entrepreneur   jgr1           0.032940\n",
       "unemployed     unemployed     0.028379\n",
       "housemaid      jgr1           0.027797\n",
       "student        student        0.020726\n",
       "unknown        jgr2           0.006337\n",
       "dtype: float64"
      ]
     },
     "execution_count": 26,
     "metadata": {},
     "output_type": "execute_result"
    }
   ],
   "source": [
    "raw_trn[raw_trn.is_train==1][['job','job2']].value_counts(normalize=True)"
   ]
  },
  {
   "cell_type": "code",
   "execution_count": 27,
   "metadata": {},
   "outputs": [
    {
     "data": {
      "image/png": "[encoded data removed]",
      "text/plain": [
       "<Figure size 432x288 with 1 Axes>"
      ]
     },
     "metadata": {
      "needs_background": "light"
     },
     "output_type": "display_data"
    }
   ],
   "source": [
    "raw_trn[raw_trn.is_train == 1].groupby('job2')[target].mean().sort_values(ascending=False).plot(kind = 'bar',title = c)\n",
    "plt.ylabel('probability to Yes')\n",
    "plt.show()"
   ]
  },
  {
   "cell_type": "code",
   "execution_count": null,
   "metadata": {},
   "outputs": [],
   "source": []
  },
  {
   "cell_type": "code",
   "execution_count": null,
   "metadata": {},
   "outputs": [],
   "source": []
  },
  {
   "cell_type": "code",
   "execution_count": 28,
   "metadata": {},
   "outputs": [
    {
     "data": {
      "text/html": [
       "<div>\n",
       "<style scoped>\n",
       "    .dataframe tbody tr th:only-of-type {\n",
       "        vertical-align: middle;\n",
       "    }\n",
       "\n",
       "    .dataframe tbody tr th {\n",
       "        vertical-align: top;\n",
       "    }\n",
       "\n",
       "    .dataframe thead th {\n",
       "        text-align: right;\n",
       "    }\n",
       "</style>\n",
       "<table border=\"1\" class=\"dataframe\">\n",
       "  <thead>\n",
       "    <tr style=\"text-align: right;\">\n",
       "      <th>is_contacted</th>\n",
       "      <th>0</th>\n",
       "      <th>1</th>\n",
       "    </tr>\n",
       "    <tr>\n",
       "      <th>contact</th>\n",
       "      <th></th>\n",
       "      <th></th>\n",
       "    </tr>\n",
       "  </thead>\n",
       "  <tbody>\n",
       "    <tr>\n",
       "      <th>cellular</th>\n",
       "      <td>18440</td>\n",
       "      <td>6393</td>\n",
       "    </tr>\n",
       "    <tr>\n",
       "      <th>telephone</th>\n",
       "      <td>1972</td>\n",
       "      <td>539</td>\n",
       "    </tr>\n",
       "    <tr>\n",
       "      <th>unknown</th>\n",
       "      <td>11026</td>\n",
       "      <td>60</td>\n",
       "    </tr>\n",
       "  </tbody>\n",
       "</table>\n",
       "</div>"
      ],
      "text/plain": [
       "is_contacted      0     1\n",
       "contact                  \n",
       "cellular      18440  6393\n",
       "telephone      1972   539\n",
       "unknown       11026    60"
      ]
     },
     "execution_count": 28,
     "metadata": {},
     "output_type": "execute_result"
    }
   ],
   "source": [
    "## further exploration on Job\n",
    "raw_trn.groupby(['contact','is_contacted']).size().unstack()\n",
    "\n",
    "## how the user have contact type but never have been contacted before"
   ]
  },
  {
   "cell_type": "code",
   "execution_count": null,
   "metadata": {},
   "outputs": [],
   "source": []
  },
  {
   "cell_type": "code",
   "execution_count": null,
   "metadata": {},
   "outputs": [],
   "source": [
    "col_cat2 = ['marital', 'default', 'job2', 'is_contacted', 'contact', 'education']"
   ]
  },
  {
   "cell_type": "code",
   "execution_count": null,
   "metadata": {},
   "outputs": [],
   "source": []
  },
  {
   "cell_type": "markdown",
   "metadata": {},
   "source": [
    "#### Features Engineering"
   ]
  },
  {
   "cell_type": "code",
   "execution_count": 30,
   "metadata": {},
   "outputs": [],
   "source": [
    "## Maxmin scaler\n",
    "\n"
   ]
  },
  {
   "cell_type": "code",
   "execution_count": 31,
   "metadata": {},
   "outputs": [],
   "source": [
    "## one hot encoding\n",
    "\n"
   ]
  },
  {
   "cell_type": "code",
   "execution_count": null,
   "metadata": {},
   "outputs": [],
   "source": []
  },
  {
   "cell_type": "code",
   "execution_count": null,
   "metadata": {},
   "outputs": [],
   "source": []
  },
  {
   "cell_type": "markdown",
   "metadata": {},
   "source": [
    "## Conclusions"
   ]
  },
  {
   "cell_type": "code",
   "execution_count": null,
   "metadata": {},
   "outputs": [],
   "source": []
  },
  {
   "cell_type": "code",
   "execution_count": null,
   "metadata": {},
   "outputs": [],
   "source": []
  }
 ],
 "metadata": {
  "kernelspec": {
   "display_name": "Python 3 (ipykernel)",
   "language": "python",
   "name": "python3"
  },
  "language_info": {
   "codemirror_mode": {
    "name": "ipython",
    "version": 3
   },
   "file_extension": ".py",
   "mimetype": "text/x-python",
   "name": "python",
   "nbconvert_exporter": "python",
   "pygments_lexer": "ipython3",
   "version": "3.7.13"
  },
  "vscode": {
   "interpreter": {
    "hash": "cfaee8345a7381c4d4eb2d178d3529454f9688cb724b599027e029325603d2a6"
   }
  }
 },
 "nbformat": 4,
 "nbformat_minor": 4
}
